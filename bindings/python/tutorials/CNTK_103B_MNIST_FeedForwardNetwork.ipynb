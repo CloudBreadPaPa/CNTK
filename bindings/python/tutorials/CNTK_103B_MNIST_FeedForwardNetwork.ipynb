{
 "cells": [
  {
   "cell_type": "markdown",
   "metadata": {
    "nbpresent": {
     "id": "29b9bd1d-766f-4422-ad96-de0accc1ce58"
    }
   },
   "source": [
    "# CNTK 103: Part B - Feed Forward Network with MNIST\n",
    "\n",
    "We assume that you have successfully completed CNTK 103 Part A.\n",
    "\n",
    "In this tutorial we will train a fully connected network on MNIST data.\n",
    "\n",
    "## Introduction\n",
    "\n",
    "**Problem** (recap from the CNTK 101):\n",
    "\n",
    "The MNIST data comprises of hand-written digits with little background noise.tient.\n",
    "\n",
    "<img src=\"http://3.bp.blogspot.com/_UpN7DfJA0j4/TJtUBWPk0SI/AAAAAAAAABY/oWPMtmqJn3k/s1600/mnist_originals.png\", width=200, height=200>\n",
    "\n",
    "\n",
    "**Goal**:\n",
    "Our goal is to train a classifier that will identify the digits in the MNIST dataset. \n",
    "\n",
    "**Approach**:\n",
    "The same 5 stages we have used in the previous tutorial are applicable: Data reading, Data preprocessing, Creating a model, Learning the model parameters and Evaluating (a.k.a. testing/prediction) the model. \n",
    "- Data reading: We will use the CNTK Text reader \n",
    "- Data preprocessing: Covered in part A (suggested extension section). \n",
    "\n",
    "Rest of the steps are kept identical to CNTK 102. \n"
   ]
  },
  {
   "cell_type": "code",
   "execution_count": 1,
   "metadata": {
    "collapsed": false,
    "nbpresent": {
     "id": "138d1a78-02e2-4bd6-a20e-07b83f303563"
    }
   },
   "outputs": [],
   "source": [
    "# Import the relevant components\n",
    "import matplotlib.image as mpimg\n",
    "import matplotlib.pyplot as plt\n",
    "import numpy as np\n",
    "import sys\n",
    "import os\n",
    "\n",
    "# from cntk import Trainer, cntk_device, StreamConfiguration, text_format_minibatch_source\n",
    "from cntk import Trainer, StreamConfiguration, text_format_minibatch_source\n",
    "from cntk.initializer import glorot_uniform\n",
    "from cntk.learner import sgd\n",
    "from cntk.ops import *\n",
    "\n",
    "%matplotlib inline"
   ]
  },
  {
   "cell_type": "markdown",
   "metadata": {},
   "source": [
    "## Data reading\n",
    "\n",
    "In this section, we will read the data generated in CNTK 103 Part B."
   ]
  },
  {
   "cell_type": "code",
   "execution_count": 2,
   "metadata": {
    "collapsed": true
   },
   "outputs": [],
   "source": [
    "#Ensure we always get the same amount of randomness\n",
    "np.random.seed(0)\n",
    "\n",
    "# Define the data dimensions\n",
    "input_dim = 784\n",
    "num_output_classes = 10"
   ]
  },
  {
   "cell_type": "markdown",
   "metadata": {},
   "source": [
    "### Input and Labels\n",
    "\n",
    "In this tutorial we are generating synthetic data using `numpy` library. In real world problems, one would use a reader, that would read feature values (`features`: *age* and *tumor size*) corresponding to each obeservation (patient).  Note, each observation can reside in a higher dimension space (when more features are available) and will be represented as a tensor in CNTK. More advanced tutorials shall introduce the handling of high dimensional data."
   ]
  },
  {
   "cell_type": "code",
   "execution_count": 3,
   "metadata": {
    "collapsed": false
   },
   "outputs": [
    {
     "name": "stdout",
     "output_type": "stream",
     "text": [
      "Training data from file data/Train-28x28_cntk_text.txt successfully read.\n"
     ]
    }
   ],
   "source": [
    "# Ensure the training data is generated and available for this tutorial\n",
    "train_file = \"data/Train-28x28_cntk_text.txt\"\n",
    "\n",
    "if os.path.isfile(train_file):\n",
    "    path = train_file\n",
    "else:\n",
    "    print(\"Please generate the data by completing CNTK 103 Part A\")\n",
    "\n",
    "feature_stream_name = 'features'\n",
    "labels_stream_name = 'labels'\n",
    "\n",
    "mb_source = text_format_minibatch_source(path, [\n",
    "    StreamConfiguration(feature_stream_name, input_dim),\n",
    "    StreamConfiguration(labels_stream_name, num_output_classes)])\n",
    "features_si = mb_source[feature_stream_name]\n",
    "labels_si = mb_source[labels_stream_name]\n",
    "\n",
    "print(\"Training data from file {0} successfully read.\".format(path))"
   ]
  },
  {
   "cell_type": "markdown",
   "metadata": {},
   "source": [
    "<a id='#Model Creation'></a>\n",
    "## Model Creation\n",
    "\n",
    "Our feed forward network will be relatively simple with 2 hidden layers (`num_hidden_layers`) with each layer having 200 hidden nodes (`hidden_layers_dim`). \n",
    "\n",
    "<img src=\"http://cntk.ai/jup/feedforward_network.jpg\",width=200, height=200>\n",
    "\n",
    "If you are not familiar with the terms *hidden_layer* and *number of hidden layers*, please refere back to CNTK 102 tutorial.\n",
    "\n",
    "For this tutorial: The number of green nodes (refer to picture above) in each hidden layer is set to 200 and the number of hidden layers (refer to the number of layers of green nodes) is 2. Fill in the following values:\n",
    "- num_hidden_layers\n",
    "- hidden_layers_dim\n",
    "\n",
    "Note: In this illustration, we have not shown the bias node (introduced in the logistic regression tutorial). Each hidden layer would have a bias node."
   ]
  },
  {
   "cell_type": "code",
   "execution_count": 4,
   "metadata": {
    "collapsed": true
   },
   "outputs": [],
   "source": [
    "num_hidden_layers = 2\n",
    "hidden_layers_dim = 400"
   ]
  },
  {
   "cell_type": "markdown",
   "metadata": {},
   "source": [
    "Network input and output: \n",
    "- **input** variable (a key CNTK concept): \n",
    ">An **input** variable is a container in which we fill different observations (data point or sample, equivalent to a blue/red dot in our example) during model learning (a.k.a.training) and model evaluation (a.k.a testing). Thus, the shape of the `input_variable` must match the shape of the data that will be provided.  For example, when data are images each of  height 10 pixels  and width 5 pixels, the input feature dimension will be two (representing image height and width). Similarly, in our examples the dimensions are age and tumor size, thus `input_dim` = 2). More on data and their dimensions to appear in separate tutorials.\n",
    "\n",
    "\n",
    "**Question** What is the input dimension of your chosen model? This is fundamental to our understanding of variables in a network or model representation in CNTK.\n"
   ]
  },
  {
   "cell_type": "code",
   "execution_count": 5,
   "metadata": {
    "collapsed": false
   },
   "outputs": [],
   "source": [
    "# The input variable (representing 1 observation, in our example of age and size) $\\bf{x}$ which in this case \n",
    "# has a dimension of 2. \n",
    "# The label variable has a dimensionality equal to the number of output classes in our case 2.\n",
    "\n",
    "input = input_variable((input_dim), np.float32)\n",
    "label = input_variable((num_output_classes), np.float32)"
   ]
  },
  {
   "cell_type": "markdown",
   "metadata": {},
   "source": [
    "## Feed forward network setup\n",
    "\n",
    "If you are not familiar with the feedforward network, please refer to CNTK 102. In this tutorial we are using the same network. "
   ]
  },
  {
   "cell_type": "code",
   "execution_count": 6,
   "metadata": {
    "collapsed": true
   },
   "outputs": [],
   "source": [
    "# Define a fully connected feedforward network\n",
    "\n",
    "def linear_layer(input_var, output_dim):\n",
    "\n",
    "    input_dim = input_var.shape[0]\n",
    "    times_param = parameter(shape=(input_dim, output_dim), init=glorot_uniform())\n",
    "    bias_param = parameter(shape=(output_dim))\n",
    "\n",
    "    t = times(input_var, times_param)\n",
    "    return bias_param + t\n",
    "\n",
    "def dense_layer(input, output_dim, nonlinearity):\n",
    "    r = linear_layer(input, output_dim)\n",
    "    r = nonlinearity(r)\n",
    "    return r;\n",
    "\n",
    "def fully_connected_classifier_net(input, num_output_classes, hidden_layer_dim, num_hidden_layers, nonlinearity):\n",
    "    h = dense_layer(input, hidden_layer_dim, nonlinearity)\n",
    "    for i in range(1, num_hidden_layers):\n",
    "        h = dense_layer(h, hidden_layer_dim, nonlinearity)\n",
    "    r = linear_layer(h, num_output_classes)\n",
    "    return r"
   ]
  },
  {
   "cell_type": "markdown",
   "metadata": {},
   "source": [
    "Network output: `z` will be used to represent the output of a network across.\n",
    "\n",
    "We introduced sigmoid function in CNTK 102, this tutorial we will suggest that you try different activation functions. You may choose to do this right away and take a peek into the performance later in the tutorial or run the preset tutorial and then choose to performa the suggested activity\n",
    "\n",
    "\n",
    "** Suggested Activity **\n",
    "- Record the training error you get with `sigmoid` as the activation function\n",
    "- Now change to `relu` as the activation fucntion and see if you can improve your training error\n",
    "\n",
    "*Quiz*: Different supported activation functions can be [found here][]. Which activation function gives the least training error?\n",
    "\n",
    "[found here]: https://github.com/Microsoft/CNTK/wiki/Activation-Functions"
   ]
  },
  {
   "cell_type": "code",
   "execution_count": 7,
   "metadata": {
    "collapsed": false
   },
   "outputs": [],
   "source": [
    "# Create the fully connected classfier but first we scale the input to 0-1 range by dividing each pixel by 256.\n",
    "\n",
    "scaled_input = element_times(constant(0.00390625), input)\n",
    "z = fully_connected_classifier_net(scaled_input, num_output_classes, hidden_layers_dim, num_hidden_layers, relu)"
   ]
  },
  {
   "cell_type": "markdown",
   "metadata": {},
   "source": [
    "### Learning model parameters\n",
    "\n",
    "Same as the previous tutorial, we use the `softmax` function to map the accumulated evidences or activations to a probability distribution over the classes (Details of the [softmax function][] and other [activation][] functions).\n",
    "\n",
    "[softmax function]: http://lsstce08:8000/cntk.ops.html#cntk.ops.softmax\n",
    "\n",
    "[activation]: https://github.com/Microsoft/CNTK/wiki/Activation-Functions"
   ]
  },
  {
   "cell_type": "markdown",
   "metadata": {},
   "source": [
    "## Training\n",
    "\n",
    "Similar to CNTK 102, we use minimize the cross-entropy between the label and predicted probability by the network. If this terminology sounds strange to you, please refer to the CNTK 102 for a refresher. "
   ]
  },
  {
   "cell_type": "code",
   "execution_count": 8,
   "metadata": {
    "collapsed": false
   },
   "outputs": [],
   "source": [
    "loss = cross_entropy_with_softmax(z, label)"
   ]
  },
  {
   "cell_type": "markdown",
   "metadata": {},
   "source": [
    "#### Evaluation\n",
    "\n",
    "In order to evaluate the classification, one can compare the output of the network which for each observation emits a vector of evidences (can be converted into probabilities using `softmax` functions) with dimension equal to number of classes."
   ]
  },
  {
   "cell_type": "code",
   "execution_count": 9,
   "metadata": {
    "collapsed": false
   },
   "outputs": [],
   "source": [
    "label_error = classification_error(z, label)"
   ]
  },
  {
   "cell_type": "markdown",
   "metadata": {},
   "source": [
    "### Configure training\n",
    "\n",
    "The trainer strives to reduce the `loss` function by different optimization approaches, [Stochastic Gradient Descent][] (`sgd`) being one of the most popular one. Typically, one would start with random initialization of the model parameters. The `sgd` optimizer would calculate the `loss` or error between the predicted label against the corresponding ground-truth label and using [gradient-decent][] generate a new set model parameters in a single iteration. \n",
    "\n",
    "The aforementioned model parameter update using a single observation at a time is attractive since it does not require the entire data set (all observation) to be loaded in memory and also requires gradient computation over fewer datapoints, thus allowing for training on large data sets. However, the updates generated using a single observation sample at a time can vary wildly between iterations. An intermediate ground is to load a small set of observations and use an average of the `loss` or error from that set to update the model parameters. This subset is called a *minibatch*.\n",
    "\n",
    "With minibatches we often sample observation from the larger training dataset. We repeat the process of model parameters update using different combination of training samples and over a period of time minimize the `loss` (and the error). When the incremental error rates are no longer changing significantly or after a preset number of maximum minibatches to train, we claim that our model is trained.\n",
    "\n",
    "One of the key parameter for optimization is called the `learning_rate`. For now, we can think of it as a scaling factor that modulates how much we change the parameters in any iteration. We will be covering more details in later tutorial. \n",
    "With this information, we are ready to create our trainer. \n",
    "\n",
    "[optimization]: https://en.wikipedia.org/wiki/Category:Convex_optimization\n",
    "[Stochastic Gradient Descent]: https://en.wikipedia.org/wiki/Stochastic_gradient_descent\n",
    "[gradient-decent]: http://www.statisticsviews.com/details/feature/5722691/Getting-to-the-Bottom-of-Regression-with-Gradient-Descent.html"
   ]
  },
  {
   "cell_type": "code",
   "execution_count": 10,
   "metadata": {
    "collapsed": false
   },
   "outputs": [],
   "source": [
    "# Instantiate the trainer object to drive the model training\n",
    "learning_rate_per_sample = 0.003125\n",
    "learner = sgd(z.parameters, lr=learning_rate_per_sample)\n",
    "trainer = Trainer(z, loss, label_error, [learner])"
   ]
  },
  {
   "cell_type": "markdown",
   "metadata": {},
   "source": [
    "First lets create some helper functions that will be needed to visualize different functions associated with training."
   ]
  },
  {
   "cell_type": "code",
   "execution_count": 11,
   "metadata": {
    "collapsed": false
   },
   "outputs": [],
   "source": [
    "from cntk.utils import get_train_eval_criterion, get_train_loss\n",
    "\n",
    "# Define a utiltiy function to compute moving average sum (\n",
    "# More efficient implementation is possible with np.cumsum() function\n",
    "def moving_average(a, w=5) :\n",
    "    \n",
    "    if len(a) < w: \n",
    "        return a[:]    #Need to send a copy of the array\n",
    "    return [val if idx < w else sum(a[(idx-w):idx])/w for idx, val in enumerate(a)]\n",
    "\n",
    "\n",
    "# Defines a utility that prints the training progress\n",
    "def print_training_progress(trainer, mb, frequency, verbose=1):\n",
    "    \n",
    "    training_loss = \"NA\"\n",
    "    eval_error = \"NA\"\n",
    "\n",
    "    if mb%frequency == 0:\n",
    "        training_loss = get_train_loss(trainer)\n",
    "        eval_error = get_train_eval_criterion(trainer)\n",
    "        if verbose: print (\"Minibatch: {0}, Loss: {1:.4f}, Error: {2:.2f}%\".format(mb, training_loss, eval_error*100))\n",
    "        \n",
    "    return mb, training_loss, eval_error"
   ]
  },
  {
   "cell_type": "markdown",
   "metadata": {},
   "source": [
    "<a id='#Run the trainer'></a>\n",
    "### Run the trainer\n",
    "\n",
    "We are now ready to train our fully connected neural net. We want to decide what data we need to feed into the training engine.\n",
    "\n",
    "In this example, each iteration of the optimizer will work on `minibatch_size` sized samples. We would like to train on all 60000 observations. Additionally we will make multiple passes through the data specified by the variable `num_sweeps_to_train_with`. With these parameters we can proceed with training our simple feed forward network."
   ]
  },
  {
   "cell_type": "code",
   "execution_count": 12,
   "metadata": {
    "collapsed": false
   },
   "outputs": [],
   "source": [
    "#Initialize the parameters for the trainer\n",
    "minibatch_size = 64\n",
    "num_samples_per_sweep = 60000\n",
    "num_sweeps_to_train_with = 10\n",
    "num_minibatches_to_train = (num_samples_per_sweep * num_sweeps_to_train_with) / minibatch_size"
   ]
  },
  {
   "cell_type": "code",
   "execution_count": 13,
   "metadata": {
    "collapsed": false
   },
   "outputs": [
    {
     "name": "stdout",
     "output_type": "stream",
     "text": [
      "Minibatch: 0, Loss: 2.3534, Error: 93.75%\n",
      "Minibatch: 100, Loss: 0.3891, Error: 9.38%\n",
      "Minibatch: 200, Loss: 0.3256, Error: 9.38%\n",
      "Minibatch: 300, Loss: 0.1566, Error: 4.69%\n",
      "Minibatch: 400, Loss: 0.1689, Error: 6.25%\n",
      "Minibatch: 500, Loss: 0.2697, Error: 7.81%\n",
      "Minibatch: 600, Loss: 0.1715, Error: 4.69%\n",
      "Minibatch: 700, Loss: 0.2627, Error: 7.81%\n",
      "Minibatch: 800, Loss: 0.1322, Error: 4.69%\n",
      "Minibatch: 900, Loss: 0.0450, Error: 1.56%\n",
      "Minibatch: 1000, Loss: 0.0381, Error: 0.00%\n",
      "Minibatch: 1100, Loss: 0.1761, Error: 7.81%\n",
      "Minibatch: 1200, Loss: 0.0631, Error: 1.56%\n",
      "Minibatch: 1300, Loss: 0.0845, Error: 3.12%\n",
      "Minibatch: 1400, Loss: 0.0632, Error: 1.56%\n",
      "Minibatch: 1500, Loss: 0.1751, Error: 6.25%\n",
      "Minibatch: 1600, Loss: 0.0983, Error: 4.69%\n",
      "Minibatch: 1700, Loss: 0.0457, Error: 1.56%\n",
      "Minibatch: 1800, Loss: 0.0873, Error: 1.56%\n",
      "Minibatch: 1900, Loss: 0.0255, Error: 0.00%\n",
      "Minibatch: 2000, Loss: 0.0705, Error: 3.12%\n",
      "Minibatch: 2100, Loss: 0.1042, Error: 3.12%\n",
      "Minibatch: 2200, Loss: 0.1004, Error: 3.12%\n",
      "Minibatch: 2300, Loss: 0.1166, Error: 7.81%\n",
      "Minibatch: 2400, Loss: 0.1603, Error: 3.12%\n",
      "Minibatch: 2500, Loss: 0.0631, Error: 1.56%\n",
      "Minibatch: 2600, Loss: 0.1499, Error: 1.56%\n",
      "Minibatch: 2700, Loss: 0.0288, Error: 1.56%\n",
      "Minibatch: 2800, Loss: 0.1384, Error: 3.12%\n",
      "Minibatch: 2900, Loss: 0.1800, Error: 6.25%\n",
      "Minibatch: 3000, Loss: 0.0405, Error: 1.56%\n",
      "Minibatch: 3100, Loss: 0.0100, Error: 0.00%\n",
      "Minibatch: 3200, Loss: 0.1067, Error: 3.12%\n",
      "Minibatch: 3300, Loss: 0.0766, Error: 1.56%\n",
      "Minibatch: 3400, Loss: 0.0568, Error: 1.56%\n",
      "Minibatch: 3500, Loss: 0.0224, Error: 1.56%\n",
      "Minibatch: 3600, Loss: 0.0154, Error: 0.00%\n",
      "Minibatch: 3700, Loss: 0.0396, Error: 1.56%\n",
      "Minibatch: 3800, Loss: 0.0305, Error: 1.56%\n",
      "Minibatch: 3900, Loss: 0.0595, Error: 1.56%\n",
      "Minibatch: 4000, Loss: 0.0112, Error: 0.00%\n",
      "Minibatch: 4100, Loss: 0.0154, Error: 0.00%\n",
      "Minibatch: 4200, Loss: 0.0104, Error: 0.00%\n",
      "Minibatch: 4300, Loss: 0.0146, Error: 0.00%\n",
      "Minibatch: 4400, Loss: 0.0234, Error: 0.00%\n",
      "Minibatch: 4500, Loss: 0.0359, Error: 1.56%\n",
      "Minibatch: 4600, Loss: 0.0095, Error: 0.00%\n",
      "Minibatch: 4700, Loss: 0.0080, Error: 0.00%\n",
      "Minibatch: 4800, Loss: 0.0508, Error: 1.56%\n",
      "Minibatch: 4900, Loss: 0.0285, Error: 1.56%\n",
      "Minibatch: 5000, Loss: 0.0291, Error: 1.56%\n",
      "Minibatch: 5100, Loss: 0.0881, Error: 3.12%\n",
      "Minibatch: 5200, Loss: 0.0227, Error: 1.56%\n",
      "Minibatch: 5300, Loss: 0.0644, Error: 1.56%\n",
      "Minibatch: 5400, Loss: 0.0219, Error: 0.00%\n",
      "Minibatch: 5500, Loss: 0.0186, Error: 1.56%\n",
      "Minibatch: 5600, Loss: 0.0023, Error: 0.00%\n",
      "Minibatch: 5700, Loss: 0.0278, Error: 1.56%\n",
      "Minibatch: 5800, Loss: 0.0016, Error: 0.00%\n",
      "Minibatch: 5900, Loss: 0.0332, Error: 1.56%\n",
      "Minibatch: 6000, Loss: 0.0262, Error: 1.56%\n",
      "Minibatch: 6100, Loss: 0.0054, Error: 0.00%\n",
      "Minibatch: 6200, Loss: 0.0097, Error: 0.00%\n",
      "Minibatch: 6300, Loss: 0.0112, Error: 0.00%\n",
      "Minibatch: 6400, Loss: 0.0087, Error: 0.00%\n",
      "Minibatch: 6500, Loss: 0.0590, Error: 3.12%\n",
      "Minibatch: 6600, Loss: 0.0350, Error: 1.56%\n",
      "Minibatch: 6700, Loss: 0.0031, Error: 0.00%\n",
      "Minibatch: 6800, Loss: 0.0029, Error: 0.00%\n",
      "Minibatch: 6900, Loss: 0.0299, Error: 1.56%\n",
      "Minibatch: 7000, Loss: 0.0020, Error: 0.00%\n",
      "Minibatch: 7100, Loss: 0.0043, Error: 0.00%\n",
      "Minibatch: 7200, Loss: 0.0236, Error: 1.56%\n",
      "Minibatch: 7300, Loss: 0.0129, Error: 0.00%\n",
      "Minibatch: 7400, Loss: 0.0015, Error: 0.00%\n",
      "Minibatch: 7500, Loss: 0.0010, Error: 0.00%\n",
      "Minibatch: 7600, Loss: 0.0039, Error: 0.00%\n",
      "Minibatch: 7700, Loss: 0.0084, Error: 0.00%\n",
      "Minibatch: 7800, Loss: 0.0043, Error: 0.00%\n",
      "Minibatch: 7900, Loss: 0.0004, Error: 0.00%\n",
      "Minibatch: 8000, Loss: 0.0016, Error: 0.00%\n",
      "Minibatch: 8100, Loss: 0.0005, Error: 0.00%\n",
      "Minibatch: 8200, Loss: 0.0045, Error: 0.00%\n",
      "Minibatch: 8300, Loss: 0.0052, Error: 0.00%\n",
      "Minibatch: 8400, Loss: 0.0016, Error: 0.00%\n",
      "Minibatch: 8500, Loss: 0.0008, Error: 0.00%\n",
      "Minibatch: 8600, Loss: 0.0005, Error: 0.00%\n",
      "Minibatch: 8700, Loss: 0.0038, Error: 0.00%\n",
      "Minibatch: 8800, Loss: 0.0008, Error: 0.00%\n",
      "Minibatch: 8900, Loss: 0.0079, Error: 0.00%\n",
      "Minibatch: 9000, Loss: 0.0063, Error: 0.00%\n",
      "Minibatch: 9100, Loss: 0.0003, Error: 0.00%\n",
      "Minibatch: 9200, Loss: 0.0015, Error: 0.00%\n",
      "Minibatch: 9300, Loss: 0.0011, Error: 0.00%\n"
     ]
    }
   ],
   "source": [
    "#Run the trainer on and perform model training\n",
    "training_progress_output_freq = 100\n",
    "\n",
    "plotdata = {\"batchsize\":[], \"loss\":[], \"error\":[]}\n",
    "\n",
    "for i in range(0, int(num_minibatches_to_train)):\n",
    "    mb = mb_source.next_minibatch(minibatch_size)\n",
    "    \n",
    "    # Specify the mapping of input variables in the model to actual minibatch data to be trained with\n",
    "    arguments = {input: mb[features_si],\n",
    "                 label: mb[labels_si]}\n",
    "    trainer.train_minibatch(arguments)\n",
    "    batchsize, loss, error = print_training_progress(trainer, i, training_progress_output_freq, verbose=1)\n",
    "    \n",
    "    if not (loss == \"NA\" or error ==\"NA\"):\n",
    "        plotdata[\"batchsize\"].append(batchsize)\n",
    "        plotdata[\"loss\"].append(loss)\n",
    "        plotdata[\"error\"].append(error)\n"
   ]
  },
  {
   "cell_type": "markdown",
   "metadata": {},
   "source": [
    "Let us plot the errors over the different training minibatches. Note that as we iterate the training loss decreases though we do see some intermediate bumps. \n",
    "\n",
    "Hence, we use smaller minibatches and using `sgd` enables us to have a great scalability while being performant for large data sets. There are advanced variants of the optimizer unique to CNTK that enable harnessing computational efficiency for real world data sets and will be introduced in advanced tutorials. "
   ]
  },
  {
   "cell_type": "code",
   "execution_count": 14,
   "metadata": {
    "collapsed": false
   },
   "outputs": [
    {
     "data": {
      "image/png": "[encoded data removed]",
      "text/plain": [
       "<matplotlib.figure.Figure at 0x19f7550>"
      ]
     },
     "metadata": {},
     "output_type": "display_data"
    },
    {
     "data": {
      "image/png": "[encoded data removed]",
      "text/plain": [
       "<matplotlib.figure.Figure at 0x1b936d8>"
      ]
     },
     "metadata": {},
     "output_type": "display_data"
    }
   ],
   "source": [
    "#Compute the moving average loss to smooth out the noise in SGD    \n",
    "\n",
    "plotdata[\"avgloss\"] = moving_average(plotdata[\"loss\"])\n",
    "plotdata[\"avgerror\"] = moving_average(plotdata[\"error\"])\n",
    "\n",
    "#Plot the training loss and the training error\n",
    "import matplotlib.pyplot as plt\n",
    "\n",
    "plt.figure(1)\n",
    "plt.subplot(211)\n",
    "plt.plot(plotdata[\"batchsize\"], plotdata[\"avgloss\"], 'b--')\n",
    "plt.xlabel('Minibatch number')\n",
    "plt.ylabel('Loss')\n",
    "plt.title('Minibatch run vs. Training loss ')\n",
    "\n",
    "plt.show()\n",
    "\n",
    "plt.subplot(212)\n",
    "plt.plot(plotdata[\"batchsize\"], plotdata[\"avgerror\"], 'r--')\n",
    "plt.xlabel('Minibatch number')\n",
    "plt.ylabel('Label Prediction Error')\n",
    "plt.title('Minibatch run vs. Label Prediction Error ')\n",
    "plt.show()"
   ]
  },
  {
   "cell_type": "markdown",
   "metadata": {},
   "source": [
    "## Evaluation / Testing \n",
    "\n",
    "Now that we have trained the network, let us evaluate the trained network on the test data. This is done using `trainer.test_minibatch`."
   ]
  },
  {
   "cell_type": "code",
   "execution_count": 15,
   "metadata": {
    "collapsed": false
   },
   "outputs": [
    {
     "name": "stdout",
     "output_type": "stream",
     "text": [
      "Test data from file {0} successfully read data/Test-28x28_cntk_text.txt\n"
     ]
    }
   ],
   "source": [
    "# Ensure the training data is read and available for this tutorial\n",
    "test_file = \"data/Test-28x28_cntk_text.txt\"\n",
    "\n",
    "if os.path.isfile(test_file):\n",
    "    path = test_file\n",
    "else:\n",
    "    print(\"Please generate the data by completing CNTK 103 Part A\")\n",
    "\n",
    "feature_stream_name = 'features'\n",
    "labels_stream_name = 'labels'\n",
    "\n",
    "test_mb_source = text_format_minibatch_source(path, [\n",
    "    StreamConfiguration(feature_stream_name, input_dim),\n",
    "    StreamConfiguration(labels_stream_name, num_output_classes)])\n",
    "features_si = mb_source[feature_stream_name]\n",
    "labels_si = mb_source[labels_stream_name]\n",
    "\n",
    "print(\"Test data from file {0} successfully read\", path)\n"
   ]
  },
  {
   "cell_type": "code",
   "execution_count": 16,
   "metadata": {
    "collapsed": false
   },
   "outputs": [
    {
     "name": "stdout",
     "output_type": "stream",
     "text": [
      "Average errors of all test minibaches: 1.70%\n"
     ]
    }
   ],
   "source": [
    "# Test data for trained model\n",
    "test_minibatch_size = 512\n",
    "num_samples = 10000\n",
    "num_minibatches_to_test = num_samples / test_minibatch_size\n",
    "test_result = 0.0\n",
    "for i in range(0, int(num_minibatches_to_test)):\n",
    "    mb = test_mb_source.next_minibatch(test_minibatch_size)\n",
    "\n",
    "    # Specify the mapping of input variables in the model to actual\n",
    "    # minibatch data to be tested with\n",
    "    arguments = {input: mb[features_si],\n",
    "                 label: mb[labels_si]}\n",
    "    eval_error = trainer.test_minibatch(arguments)\n",
    "    test_result = test_result + eval_error\n",
    "\n",
    "# Average of evaluation errors of all test minibatches\n",
    "print(\"Average errors of all test minibaches: {0:.2f}%\".format(test_result*100 / num_minibatches_to_test))"
   ]
  },
  {
   "cell_type": "markdown",
   "metadata": {},
   "source": [
    "Note, this error is very comparable to our training error indicating that our model has good \"out of sample\" error a.k.a generalization error. This implies that our model can very effectively deal with previously unseen observations (during the training process). This is key to avoid the phenomenon of overfitting. "
   ]
  },
  {
   "cell_type": "markdown",
   "metadata": {},
   "source": [
    "We have so far been dealing with aggregate measures of error. Lets now get the probabilities associated with individual data points. For each observation, the `eval` function returns the probability distribution across all the classes. The classifer is trained to recognize digits, hence has 10 classes. First let us route the network output through a `softmax` function. This maps the aggregated activations across the netowrk to probabilities across the 10 classes."
   ]
  },
  {
   "cell_type": "code",
   "execution_count": 17,
   "metadata": {
    "collapsed": false
   },
   "outputs": [],
   "source": [
    "out = softmax(z)"
   ]
  },
  {
   "cell_type": "markdown",
   "metadata": {},
   "source": [
    "Lets a small minibatch sample from the test data."
   ]
  },
  {
   "cell_type": "code",
   "execution_count": 18,
   "metadata": {
    "collapsed": false
   },
   "outputs": [],
   "source": [
    "mb = test_mb_source.next_minibatch(test_minibatch_size)\n",
    "\n",
    "predicted_label_prob =out.eval({input : mb[features_si]})\n",
    "\n",
    "#orig_label=np.array(mb[labels_si].m_data.data().to_numpy())\n",
    "orig_label = np.asarray(mb[labels_si].m_data)"
   ]
  },
  {
   "cell_type": "code",
   "execution_count": 19,
   "metadata": {
    "collapsed": false
   },
   "outputs": [],
   "source": [
    "#Find the index with the maximum value for both predicted as well as the ground truth\n",
    "pred = [np.argmax(predicted_label_prob[i,:,:]) for i in range(0,predicted_label_prob.shape[0])]\n",
    "gtlabel = [np.argmax(orig_label[i,:,:]) for i in range(0, orig_label.shape[0])]"
   ]
  },
  {
   "cell_type": "code",
   "execution_count": 20,
   "metadata": {
    "collapsed": false
   },
   "outputs": [
    {
     "name": "stdout",
     "output_type": "stream",
     "text": [
      "Label    : [7, 9, 0, 1, 7, 9, 0, 0, 9, 2, 9, 3, 8, 5, 7, 8, 8, 0, 8, 4, 6, 8, 6, 2, 3]\n",
      "Predicted: [7, 9, 0, 1, 7, 9, 0, 0, 9, 2, 9, 3, 8, 5, 7, 8, 8, 0, 8, 4, 6, 8, 6, 2, 3]\n"
     ]
    }
   ],
   "source": [
    "print(\"Label    :\", gtlabel[:25])\n",
    "print(\"Predicted:\", pred[:25])"
   ]
  },
  {
   "cell_type": "markdown",
   "metadata": {},
   "source": [
    "Lets visualize some of the results"
   ]
  },
  {
   "cell_type": "code",
   "execution_count": 21,
   "metadata": {
    "collapsed": false
   },
   "outputs": [
    {
     "name": "stdout",
     "output_type": "stream",
     "text": [
      "Image Label:  9\n"
     ]
    },
    {
     "data": {
      "image/png": "[encoded data removed]",
      "text/plain": [
       "<matplotlib.figure.Figure at 0x19f72b0>"
      ]
     },
     "metadata": {},
     "output_type": "display_data"
    }
   ],
   "source": [
    "# Plot a random image\n",
    "sample_number = 5\n",
    "#img_data = mb[features_si].m_data.data().to_numpy()\n",
    "img_data = mb[features_si].value\n",
    "plt.imshow(img_data[sample_number,:,:].reshape(28,28), cmap=\"gray_r\")\n",
    "plt.axis('off')\n",
    "\n",
    "img_gt, img_pred = gtlabel[sample_number], pred[sample_number]\n",
    "print(\"Image Label: \", img_pred)"
   ]
  },
  {
   "cell_type": "markdown",
   "metadata": {
    "collapsed": true
   },
   "source": [
    "**Exploration Suggestion**\n",
    "-  Try exploring how the classifier behaves with different parameters - suggest changing the `minibatch_size` parameter from 25 to say 64 or 128. What happens to the error rate? How does the error compare to the logistic regression classifier?\n",
    "- Suggest trying to increase the number of sweeps\n",
    "- Can you change the network to reduce the training error rate? When do you see *overfitting* happening?"
   ]
  },
  {
   "cell_type": "markdown",
   "metadata": {
    "collapsed": true
   },
   "source": [
    "#### Code link\n",
    "\n",
    "If you want to try running the tutorial from python command prompt. Please run the [FeedForwardNet.py][] example.\n",
    "\n",
    "[FeedForwardNet.py]: https://github.com/Microsoft/CNTK/blob/master/bindings/python/examples/NumpyInterop/FeedForwardNet.py"
   ]
  },
  {
   "cell_type": "code",
   "execution_count": null,
   "metadata": {
    "collapsed": true
   },
   "outputs": [],
   "source": []
  }
 ],
 "metadata": {
  "anaconda-cloud": {},
  "kernelspec": {
   "display_name": "Python 3",
   "language": "python",
   "name": "python3"
  },
  "language_info": {
   "codemirror_mode": {
    "name": "ipython",
    "version": 3
   },
   "file_extension": ".py",
   "mimetype": "text/x-python",
   "name": "python",
   "nbconvert_exporter": "python",
   "pygments_lexer": "ipython3",
   "version": "3.4.3"
  }
 },
 "nbformat": 4,
 "nbformat_minor": 1
}
